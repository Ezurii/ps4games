{
 "cells": [
  {
   "cell_type": "code",
   "execution_count": 17,
   "metadata": {},
   "outputs": [],
   "source": [
    "import streamlit as st\n",
    "import pandas as pd\n",
    "import plotly as px\n",
    "import numpy as np"
   ]
  },
  {
   "cell_type": "code",
   "execution_count": 18,
   "metadata": {},
   "outputs": [],
   "source": [
    "df = pd.read_csv('PS4GamesSales.csv', encoding='latin1')\n",
    "df[\"Year\"] = df[\"Year\"].astype(\"string\")"
   ]
  },
  {
   "cell_type": "code",
   "execution_count": 5,
   "metadata": {},
   "outputs": [
    {
     "name": "stderr",
     "output_type": "stream",
     "text": [
      "2023-12-09 18:43:37.144 \n",
      "  \u001b[33m\u001b[1mWarning:\u001b[0m to view this Streamlit app on a browser, run it with the following\n",
      "  command:\n",
      "\n",
      "    streamlit run c:\\Users\\Planeta Digital\\anaconda3\\Lib\\site-packages\\ipykernel_launcher.py [ARGUMENTS]\n"
     ]
    },
    {
     "data": {
      "text/plain": [
       "DeltaGenerator()"
      ]
     },
     "execution_count": 5,
     "metadata": {},
     "output_type": "execute_result"
    }
   ],
   "source": [
    "st.dataframe(df)"
   ]
  },
  {
   "cell_type": "code",
   "execution_count": 19,
   "metadata": {},
   "outputs": [
    {
     "ename": "StreamlitAPIException",
     "evalue": "The columns used for rendering the chart contain too many values with mixed types. Please select the columns manually via the y parameter.",
     "output_type": "error",
     "traceback": [
      "\u001b[1;31m---------------------------------------------------------------------------\u001b[0m",
      "\u001b[1;31mStreamlitAPIException\u001b[0m                     Traceback (most recent call last)",
      "Cell \u001b[1;32mIn[19], line 1\u001b[0m\n\u001b[1;32m----> 1\u001b[0m st\u001b[38;5;241m.\u001b[39mline_chart(df)\n",
      "File \u001b[1;32mc:\\Users\\Planeta Digital\\anaconda3\\Lib\\site-packages\\streamlit\\runtime\\metrics_util.py:396\u001b[0m, in \u001b[0;36mgather_metrics.<locals>.wrapped_func\u001b[1;34m(*args, **kwargs)\u001b[0m\n\u001b[0;32m    394\u001b[0m         _LOGGER\u001b[38;5;241m.\u001b[39mdebug(\u001b[38;5;124m\"\u001b[39m\u001b[38;5;124mFailed to collect command telemetry\u001b[39m\u001b[38;5;124m\"\u001b[39m, exc_info\u001b[38;5;241m=\u001b[39mex)\n\u001b[0;32m    395\u001b[0m \u001b[38;5;28;01mtry\u001b[39;00m:\n\u001b[1;32m--> 396\u001b[0m     result \u001b[38;5;241m=\u001b[39m non_optional_func(\u001b[38;5;241m*\u001b[39margs, \u001b[38;5;241m*\u001b[39m\u001b[38;5;241m*\u001b[39mkwargs)\n\u001b[0;32m    397\u001b[0m \u001b[38;5;28;01mexcept\u001b[39;00m RerunException \u001b[38;5;28;01mas\u001b[39;00m ex:\n\u001b[0;32m    398\u001b[0m     \u001b[38;5;66;03m# Duplicated from below, because static analysis tools get confused\u001b[39;00m\n\u001b[0;32m    399\u001b[0m     \u001b[38;5;66;03m# by deferring the rethrow.\u001b[39;00m\n\u001b[0;32m    400\u001b[0m     \u001b[38;5;28;01mif\u001b[39;00m tracking_activated \u001b[38;5;129;01mand\u001b[39;00m command_telemetry:\n",
      "File \u001b[1;32mc:\\Users\\Planeta Digital\\anaconda3\\Lib\\site-packages\\streamlit\\elements\\arrow_altair.py:239\u001b[0m, in \u001b[0;36mArrowAltairMixin.line_chart\u001b[1;34m(self, data, x, y, color, width, height, use_container_width)\u001b[0m\n\u001b[0;32m    109\u001b[0m \u001b[38;5;250m\u001b[39m\u001b[38;5;124;03m\"\"\"Display a line chart.\u001b[39;00m\n\u001b[0;32m    110\u001b[0m \n\u001b[0;32m    111\u001b[0m \u001b[38;5;124;03mThis is syntax-sugar around ``st.altair_chart``. The main difference\u001b[39;00m\n\u001b[1;32m   (...)\u001b[0m\n\u001b[0;32m    236\u001b[0m \n\u001b[0;32m    237\u001b[0m \u001b[38;5;124;03m\"\"\"\u001b[39;00m\n\u001b[0;32m    238\u001b[0m proto \u001b[38;5;241m=\u001b[39m ArrowVegaLiteChartProto()\n\u001b[1;32m--> 239\u001b[0m chart, add_rows_metadata \u001b[38;5;241m=\u001b[39m _generate_chart(\n\u001b[0;32m    240\u001b[0m     chart_type\u001b[38;5;241m=\u001b[39mChartType\u001b[38;5;241m.\u001b[39mLINE,\n\u001b[0;32m    241\u001b[0m     data\u001b[38;5;241m=\u001b[39mdata,\n\u001b[0;32m    242\u001b[0m     x_from_user\u001b[38;5;241m=\u001b[39mx,\n\u001b[0;32m    243\u001b[0m     y_from_user\u001b[38;5;241m=\u001b[39my,\n\u001b[0;32m    244\u001b[0m     color_from_user\u001b[38;5;241m=\u001b[39mcolor,\n\u001b[0;32m    245\u001b[0m     size_from_user\u001b[38;5;241m=\u001b[39m\u001b[38;5;28;01mNone\u001b[39;00m,\n\u001b[0;32m    246\u001b[0m     width\u001b[38;5;241m=\u001b[39mwidth,\n\u001b[0;32m    247\u001b[0m     height\u001b[38;5;241m=\u001b[39mheight,\n\u001b[0;32m    248\u001b[0m )\n\u001b[0;32m    249\u001b[0m marshall(proto, chart, use_container_width, theme\u001b[38;5;241m=\u001b[39m\u001b[38;5;124m\"\u001b[39m\u001b[38;5;124mstreamlit\u001b[39m\u001b[38;5;124m\"\u001b[39m)\n\u001b[0;32m    251\u001b[0m \u001b[38;5;28;01mreturn\u001b[39;00m \u001b[38;5;28mself\u001b[39m\u001b[38;5;241m.\u001b[39mdg\u001b[38;5;241m.\u001b[39m_enqueue(\n\u001b[0;32m    252\u001b[0m     \u001b[38;5;124m\"\u001b[39m\u001b[38;5;124marrow_line_chart\u001b[39m\u001b[38;5;124m\"\u001b[39m, proto, add_rows_metadata\u001b[38;5;241m=\u001b[39madd_rows_metadata\n\u001b[0;32m    253\u001b[0m )\n",
      "File \u001b[1;32mc:\\Users\\Planeta Digital\\anaconda3\\Lib\\site-packages\\streamlit\\elements\\arrow_altair.py:972\u001b[0m, in \u001b[0;36m_generate_chart\u001b[1;34m(***failed resolving arguments***)\u001b[0m\n\u001b[0;32m    957\u001b[0m add_rows_metadata \u001b[38;5;241m=\u001b[39m AddRowsMetadata(\n\u001b[0;32m    958\u001b[0m     \u001b[38;5;66;03m# The last index of df so we can adjust the input df in add_rows:\u001b[39;00m\n\u001b[0;32m    959\u001b[0m     last_index\u001b[38;5;241m=\u001b[39mlast_index_for_melted_dataframes(df),\n\u001b[1;32m   (...)\u001b[0m\n\u001b[0;32m    966\u001b[0m     ),\n\u001b[0;32m    967\u001b[0m )\n\u001b[0;32m    969\u001b[0m \u001b[38;5;66;03m# At this point, all foo_column variables are either None/empty or contain actual\u001b[39;00m\n\u001b[0;32m    970\u001b[0m \u001b[38;5;66;03m# columns that are guaranteed to exist.\u001b[39;00m\n\u001b[1;32m--> 972\u001b[0m df, x_column, y_column, color_column, size_column \u001b[38;5;241m=\u001b[39m prep_data(\n\u001b[0;32m    973\u001b[0m     df, x_column, y_column_list, color_column, size_column\n\u001b[0;32m    974\u001b[0m )\n\u001b[0;32m    976\u001b[0m \u001b[38;5;66;03m# At this point, x_column is only None if user did not provide one AND df is empty.\u001b[39;00m\n\u001b[0;32m    977\u001b[0m \n\u001b[0;32m    978\u001b[0m \u001b[38;5;66;03m# Create a Chart with x and y encodings.\u001b[39;00m\n\u001b[0;32m    979\u001b[0m chart \u001b[38;5;241m=\u001b[39m alt\u001b[38;5;241m.\u001b[39mChart(\n\u001b[0;32m    980\u001b[0m     data\u001b[38;5;241m=\u001b[39mdf,\n\u001b[0;32m    981\u001b[0m     mark\u001b[38;5;241m=\u001b[39mchart_type\u001b[38;5;241m.\u001b[39mvalue[\u001b[38;5;124m\"\u001b[39m\u001b[38;5;124mmark_type\u001b[39m\u001b[38;5;124m\"\u001b[39m],\n\u001b[1;32m   (...)\u001b[0m\n\u001b[0;32m    986\u001b[0m     y\u001b[38;5;241m=\u001b[39m_get_y_encoding(df, y_column, y_from_user),\n\u001b[0;32m    987\u001b[0m )\n",
      "File \u001b[1;32mc:\\Users\\Planeta Digital\\anaconda3\\Lib\\site-packages\\streamlit\\elements\\arrow_altair.py:920\u001b[0m, in \u001b[0;36mprep_data\u001b[1;34m(df, x_column, y_column_list, color_column, size_column)\u001b[0m\n\u001b[0;32m    910\u001b[0m (\n\u001b[0;32m    911\u001b[0m     x_column,\n\u001b[0;32m    912\u001b[0m     y_column_list,\n\u001b[1;32m   (...)\u001b[0m\n\u001b[0;32m    916\u001b[0m     selected_data, x_column, y_column_list, color_column, size_column\n\u001b[0;32m    917\u001b[0m )\n\u001b[0;32m    919\u001b[0m \u001b[38;5;66;03m# Maybe melt data from wide format into long format.\u001b[39;00m\n\u001b[1;32m--> 920\u001b[0m melted_data, y_column, color_column \u001b[38;5;241m=\u001b[39m _maybe_melt(\n\u001b[0;32m    921\u001b[0m     selected_data, x_column, y_column_list, color_column, size_column\n\u001b[0;32m    922\u001b[0m )\n\u001b[0;32m    924\u001b[0m \u001b[38;5;66;03m# Return the data, but also the new names to use for x, y, and color.\u001b[39;00m\n\u001b[0;32m    925\u001b[0m \u001b[38;5;28;01mreturn\u001b[39;00m melted_data, x_column, y_column, color_column, size_column\n",
      "File \u001b[1;32mc:\\Users\\Planeta Digital\\anaconda3\\Lib\\site-packages\\streamlit\\elements\\arrow_altair.py:1221\u001b[0m, in \u001b[0;36m_maybe_melt\u001b[1;34m(df, x_column, y_column_list, color_column, size_column)\u001b[0m\n\u001b[0;32m   1218\u001b[0m     \u001b[38;5;28;01mif\u001b[39;00m size_column:\n\u001b[0;32m   1219\u001b[0m         columns_to_leave_alone\u001b[38;5;241m.\u001b[39mappend(size_column)\n\u001b[1;32m-> 1221\u001b[0m     df \u001b[38;5;241m=\u001b[39m _melt_data(\n\u001b[0;32m   1222\u001b[0m         df\u001b[38;5;241m=\u001b[39mdf,\n\u001b[0;32m   1223\u001b[0m         columns_to_leave_alone\u001b[38;5;241m=\u001b[39mcolumns_to_leave_alone,\n\u001b[0;32m   1224\u001b[0m         columns_to_melt\u001b[38;5;241m=\u001b[39my_column_list,\n\u001b[0;32m   1225\u001b[0m         new_y_column_name\u001b[38;5;241m=\u001b[39my_column,\n\u001b[0;32m   1226\u001b[0m         new_color_column_name\u001b[38;5;241m=\u001b[39mcolor_column,\n\u001b[0;32m   1227\u001b[0m     )\n\u001b[0;32m   1229\u001b[0m \u001b[38;5;28;01mreturn\u001b[39;00m df, y_column, color_column\n",
      "File \u001b[1;32mc:\\Users\\Planeta Digital\\anaconda3\\Lib\\site-packages\\streamlit\\elements\\arrow_altair.py:866\u001b[0m, in \u001b[0;36m_melt_data\u001b[1;34m(df, columns_to_leave_alone, columns_to_melt, new_y_column_name, new_color_column_name)\u001b[0m\n\u001b[0;32m    860\u001b[0m y_series \u001b[38;5;241m=\u001b[39m melted_df[new_y_column_name]\n\u001b[0;32m    861\u001b[0m \u001b[38;5;28;01mif\u001b[39;00m (\n\u001b[0;32m    862\u001b[0m     y_series\u001b[38;5;241m.\u001b[39mdtype \u001b[38;5;241m==\u001b[39m \u001b[38;5;124m\"\u001b[39m\u001b[38;5;124mobject\u001b[39m\u001b[38;5;124m\"\u001b[39m\n\u001b[0;32m    863\u001b[0m     \u001b[38;5;129;01mand\u001b[39;00m \u001b[38;5;124m\"\u001b[39m\u001b[38;5;124mmixed\u001b[39m\u001b[38;5;124m\"\u001b[39m \u001b[38;5;129;01min\u001b[39;00m infer_dtype(y_series)\n\u001b[0;32m    864\u001b[0m     \u001b[38;5;129;01mand\u001b[39;00m \u001b[38;5;28mlen\u001b[39m(y_series\u001b[38;5;241m.\u001b[39munique()) \u001b[38;5;241m>\u001b[39m \u001b[38;5;241m100\u001b[39m\n\u001b[0;32m    865\u001b[0m ):\n\u001b[1;32m--> 866\u001b[0m     \u001b[38;5;28;01mraise\u001b[39;00m StreamlitAPIException(\n\u001b[0;32m    867\u001b[0m         \u001b[38;5;124m\"\u001b[39m\u001b[38;5;124mThe columns used for rendering the chart contain too many values with mixed types. Please select the columns manually via the y parameter.\u001b[39m\u001b[38;5;124m\"\u001b[39m\n\u001b[0;32m    868\u001b[0m     )\n\u001b[0;32m    870\u001b[0m \u001b[38;5;66;03m# Arrow has problems with object types after melting two different dtypes\u001b[39;00m\n\u001b[0;32m    871\u001b[0m \u001b[38;5;66;03m# pyarrow.lib.ArrowTypeError: \"Expected a <TYPE> object, got a object\"\u001b[39;00m\n\u001b[0;32m    872\u001b[0m fixed_df \u001b[38;5;241m=\u001b[39m type_util\u001b[38;5;241m.\u001b[39mfix_arrow_incompatible_column_types(\n\u001b[0;32m    873\u001b[0m     melted_df,\n\u001b[0;32m    874\u001b[0m     selected_columns\u001b[38;5;241m=\u001b[39m[\n\u001b[1;32m   (...)\u001b[0m\n\u001b[0;32m    878\u001b[0m     ],\n\u001b[0;32m    879\u001b[0m )\n",
      "\u001b[1;31mStreamlitAPIException\u001b[0m: The columns used for rendering the chart contain too many values with mixed types. Please select the columns manually via the y parameter."
     ]
    }
   ],
   "source": [
    "st.line_chart(df)"
   ]
  }
 ],
 "metadata": {
  "kernelspec": {
   "display_name": "base",
   "language": "python",
   "name": "python3"
  },
  "language_info": {
   "codemirror_mode": {
    "name": "ipython",
    "version": 3
   },
   "file_extension": ".py",
   "mimetype": "text/x-python",
   "name": "python",
   "nbconvert_exporter": "python",
   "pygments_lexer": "ipython3",
   "version": "3.11.5"
  }
 },
 "nbformat": 4,
 "nbformat_minor": 2
}
